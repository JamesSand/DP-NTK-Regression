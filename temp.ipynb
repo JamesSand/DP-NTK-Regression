{
 "cells": [
  {
   "cell_type": "code",
   "execution_count": 6,
   "metadata": {},
   "outputs": [
    {
     "name": "stdout",
     "output_type": "stream",
     "text": [
      "[0.4101, 0.4532, 0.5267, 0.5346, 0.6092, 0.6453, 0.7291, 0.7597, 0.8022, 0.8119, 0.8249]\n",
      "[0.4048, 0.4602, 0.522, 0.5278, 0.5982, 0.6264, 0.7132, 0.7444, 0.7766, 0.7816, 0.7934]\n",
      "[0.5, 0.6, 0.7, 0.8, 0.9, 1.0, 1.1, 1.2, 1.3, 1.4, 1.5]\n",
      "[0.8010299956639813, 0.9010299956639811, 1.0010299956639812, 1.1010299956639813, 1.2010299956639812, 1.3010299956639813, 1.4010299956639813, 1.5010299956639812, 1.6010299956639813, 1.7010299956639812, 1.8010299956639813]\n"
     ]
    }
   ],
   "source": [
    "import os\n",
    "import math\n",
    "\n",
    "log_dir = \"logs\"\n",
    "file_list = sorted(os.listdir(log_dir))\n",
    "\n",
    "# print(file_list)\n",
    "\n",
    "eps_exponent_list = []\n",
    "test_acc_list = []\n",
    "train_acc_list = []\n",
    "\n",
    "for file_name in file_list:\n",
    "    if not file_name.startswith(\"eps\"):\n",
    "        continue\n",
    "    eps_exponent = float(file_name.rstrip(\".txt\").strip(\"eps_\"))\n",
    "    eps_exponent_list.append(eps_exponent)\n",
    "\n",
    "    file_path = os.path.join(log_dir, file_name)\n",
    "    with open(file_path, \"r\") as fr:\n",
    "        for line in fr:\n",
    "            line_name, line_num = line.split(\" \")\n",
    "            line_num = float(line_num.rstrip(\")\\n\").strip(\"tensor(\"))\n",
    "            if line_name == \"test_acc\":\n",
    "                test_acc_list.append(line_num)\n",
    "            elif line_name == \"train_acc\":\n",
    "                train_acc_list.append(line_num)\n",
    "            else:\n",
    "                assert False\n",
    "\n",
    "print(test_acc_list)\n",
    "print(train_acc_list)\n",
    "print(eps_exponent_list)\n",
    "\n",
    "actual_eps_exponent_list = []\n",
    "for eps_exponent in eps_exponent_list:\n",
    "    actual_eps_exponent_list.append(math.log10(2 * 10 ** eps_exponent))\n",
    "\n",
    "print(actual_eps_exponent_list)\n",
    "\n"
   ]
  }
 ],
 "metadata": {
  "kernelspec": {
   "display_name": "galore",
   "language": "python",
   "name": "python3"
  },
  "language_info": {
   "codemirror_mode": {
    "name": "ipython",
    "version": 3
   },
   "file_extension": ".py",
   "mimetype": "text/x-python",
   "name": "python",
   "nbconvert_exporter": "python",
   "pygments_lexer": "ipython3",
   "version": "3.10.14"
  }
 },
 "nbformat": 4,
 "nbformat_minor": 2
}
