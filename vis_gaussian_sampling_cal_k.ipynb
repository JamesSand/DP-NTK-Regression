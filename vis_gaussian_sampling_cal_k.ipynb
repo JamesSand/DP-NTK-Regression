{
 "cells": [
  {
   "cell_type": "code",
   "execution_count": 15,
   "metadata": {},
   "outputs": [],
   "source": [
    "import torch\n",
    "import torch.nn as nn\n",
    "import torchvision.models as models\n",
    "import torchvision.transforms as transforms\n",
    "from torch.autograd import Variable\n",
    "from PIL import Image\n",
    "import torchvision\n",
    "from torch.utils.data import Subset\n",
    "from tqdm import tqdm\n",
    "from torch.distributions.laplace import Laplace\n",
    "import math\n",
    "\n",
    "\n",
    "from ntk_utils import gen_h_dis, gen_alpha, gen_z_embed, process_query\n",
    "\n",
    "# device =\n",
    "# device = torch.device(\"cuda\" if torch.cuda.is_available() else \"cpu\")\n",
    "device = torch.device(\"cpu\")\n",
    "\n",
    "# Load the pretrained model\n",
    "model = models.resnet18(pretrained=True)\n",
    "\n",
    "model = model.to(device)\n",
    "\n",
    "# Use the model object to select the desired layer\n",
    "layer = model._modules.get('avgpool')\n",
    "\n",
    "# Set model to evaluation mode\n",
    "model.eval()\n",
    "\n",
    "# Image transforms\n",
    "scaler = transforms.Resize((224, 224))\n",
    "normalize = transforms.Normalize(mean=[0.485, 0.456, 0.406], std=[0.229, 0.224, 0.225])\n",
    "to_tensor = transforms.ToTensor()\n",
    "\n",
    "def get_vector(img):\n",
    "    # 1. Load the image with Pillow library\n",
    "    # img = Image.open(image_name)\n",
    "    # 2. Create a PyTorch Variable with the transformed image\n",
    "    t_img = Variable(normalize(to_tensor(scaler(img))).unsqueeze(0))\n",
    "    # 3. Create a vector of zeros that will hold our feature vector\n",
    "    #    The 'avgpool' layer has an output size of 512\n",
    "    my_embedding = torch.zeros(512).to(device)\n",
    "    # 4. Define a function that will copy the output of a layer\n",
    "    def copy_data(m, i, o):\n",
    "        # my_embedding.copy_(o.data)\n",
    "        my_embedding.copy_(o.data.reshape(o.data.size(1)))\n",
    "    # 5. Attach that function to our selected layer\n",
    "    h = layer.register_forward_hook(copy_data)\n",
    "    # 6. Run the model on our transformed image\n",
    "    # origin_device = t_img.device\n",
    "    t_img = t_img.to(device)\n",
    "    model(t_img)\n",
    "    # 7. Detach our copy function from the layer\n",
    "    h.remove()\n",
    "\n",
    "    return my_embedding\n",
    "\n",
    "    # my_embedding = my_embedding.to(origin_device)\n",
    "    # # 8. Return the feature vector\n",
    "    # return my_embedding.numpy()\n",
    "\n",
    "\n",
    "ds = torchvision.datasets.CIFAR10(root='./data', train=True, download=False)\n",
    "\n",
    "def gen_2classes_indices(cls1_name, cls2_name):\n",
    "    cls1_indices, cls2_indices, other_indices = [], [], []\n",
    "    cls1_idx, cls2_idx = ds.class_to_idx[cls1_name], ds.class_to_idx[cls2_name]\n",
    "\n",
    "    for i in range(len(ds)):\n",
    "        current_class = ds[i][1]\n",
    "        if current_class == cls1_idx:\n",
    "            cls1_indices.append(i)\n",
    "        elif current_class == cls2_idx:\n",
    "            cls2_indices.append(i)\n",
    "        else:\n",
    "            other_indices.append(i)\n",
    "\n",
    "    return cls1_indices, cls2_indices\n",
    "\n",
    "def gen_feature_tensor(idx_list):\n",
    "    img_ts_list = []\n",
    "    for idx in tqdm(idx_list):\n",
    "        image, label = ds[idx]\n",
    "        img_ts = get_vector(image)\n",
    "        # img_ts = torch.from_numpy(img_np)\n",
    "        img_ts_list.append(img_ts)\n",
    "\n",
    "    # concat\n",
    "    ret_ts = torch.stack(img_ts_list, dim=0)\n",
    "    return ret_ts\n",
    "\n",
    "\n",
    "def test_accuracy(test_dataset, gt_label, w_r, x_data, alpha):\n",
    "    pred = process_query(test_dataset, w_r, x_data, alpha)\n",
    "    succ_cnt = torch.sum(pred == gt_label)\n",
    "    nz = pred.shape[0]\n",
    "    accuracy = succ_cnt / nz\n",
    "    # print(\"accuracy\", accuracy)\n",
    "    return accuracy\n",
    "\n",
    "\n",
    "def cal_k(eps, delta, beta):\n",
    "    k_bound = (eps * eps * 1e-2) / (math.log(1 / delta) * beta * beta)\n",
    "    k = int(math.floor(k_bound))\n",
    "    return k\n",
    "\n"
   ]
  },
  {
   "cell_type": "code",
   "execution_count": 10,
   "metadata": {},
   "outputs": [
    {
     "name": "stderr",
     "output_type": "stream",
     "text": [
      "100%|██████████| 1000/1000 [00:19<00:00, 51.87it/s]\n",
      "100%|██████████| 1000/1000 [00:19<00:00, 51.74it/s]\n",
      "100%|██████████| 100/100 [00:01<00:00, 53.06it/s]\n",
      "100%|██████████| 100/100 [00:01<00:00, 52.36it/s]\n"
     ]
    },
    {
     "name": "stdout",
     "output_type": "stream",
     "text": [
      "data normalized\n",
      "data normalized\n",
      "data normalized\n",
      "data normalized\n"
     ]
    },
    {
     "name": "stderr",
     "output_type": "stream",
     "text": [
      "100%|██████████| 20/20 [00:19<00:00,  1.05it/s]"
     ]
    },
    {
     "name": "stdout",
     "output_type": "stream",
     "text": [
      "test acc tensor(0.9800)\n",
      "train acc tensor(0.9840)\n"
     ]
    },
    {
     "name": "stderr",
     "output_type": "stream",
     "text": [
      "\n"
     ]
    }
   ],
   "source": [
    "\n",
    "######### normalization x data start ###########\n",
    "def calculate_norm(input_data):\n",
    "    # input_data: n * d\n",
    "    square_data = input_data * input_data\n",
    "    norm_data = square_data.sum(dim=1)\n",
    "    norm_data = torch.sqrt(norm_data)\n",
    "    return norm_data\n",
    "\n",
    "def data_normalization(input_data):\n",
    "    # input data: n * d\n",
    "    print(\"data normalized\")\n",
    "    x_norm = calculate_norm(input_data)\n",
    "    x_norm = x_norm[..., None]\n",
    "    ball_data = input_data / x_norm\n",
    "\n",
    "    return ball_data\n",
    "######### normalization x data end ###########\n",
    "\n",
    "# there are 5k images for 1 class\n",
    "train_num = 1000\n",
    "test_num = 100\n",
    "label_scale = 1.0\n",
    "\n",
    "cls1_name = \"airplane\"\n",
    "cls2_name = \"cat\"\n",
    "\n",
    "cls1_indices, cls2_indices = gen_2classes_indices(cls1_name, cls2_name)\n",
    "\n",
    "cls1_train_ts = gen_feature_tensor(cls1_indices[:train_num]).to(device)\n",
    "cls2_train_ts = gen_feature_tensor(cls2_indices[:train_num]).to(device)\n",
    "\n",
    "cls1_label = torch.full((train_num, ), label_scale, dtype=torch.float32)\n",
    "cls2_label = torch.full((train_num, ), -1 * label_scale, dtype=torch.float32)\n",
    "\n",
    "cls1_test_ts = gen_feature_tensor(cls1_indices[-test_num:]).to(device)\n",
    "cls2_test_ts = gen_feature_tensor(cls2_indices[-test_num:]).to(device)\n",
    "\n",
    "############# test on NTK Regression start #################\n",
    "\n",
    "######### normalization start ################\n",
    "cls1_train_ts = data_normalization(cls1_train_ts)\n",
    "cls2_train_ts = data_normalization(cls2_train_ts)\n",
    "cls1_test_ts = data_normalization(cls1_test_ts)\n",
    "cls2_test_ts = data_normalization(cls2_test_ts)\n",
    "######### normalization end ################\n",
    "\n",
    "\n",
    "m = 256\n",
    "reg_lambda = 10.0\n",
    "\n",
    "x_data = torch.cat((cls1_train_ts, cls2_train_ts), dim=0).to(device)\n",
    "y_data = torch.cat((cls1_label, cls2_label), dim=0).to(device)\n",
    "\n",
    "n, d = x_data.shape\n",
    "\n",
    "# generate w_r\n",
    "w_r = torch.randn((m, d), dtype=torch.float32).to(device)\n",
    "\n",
    "h_dis = gen_h_dis(w_r, x_data)\n",
    "\n",
    "alpha = gen_alpha(h_dis, reg_lambda, y_data)\n",
    "\n",
    "# # may scale down alpha here\n",
    "# alpha = alpha / (n * n)\n",
    "\n",
    "def gaussain_sampling_on_k(h_dis, y_data, reg_lambda, cls1_test_ts, cls2_test_ts, k=None):\n",
    "    \n",
    "    n = h_dis.shape[0]\n",
    "\n",
    "    test_acc_list = []\n",
    "    train_acc_list = []\n",
    "\n",
    "    repeat_time = 20\n",
    "\n",
    "    for _ in tqdm(range(repeat_time)):\n",
    "        if k is None:\n",
    "            wt_h_dis = h_dis\n",
    "        else:\n",
    "            # setup gaussian sampler\n",
    "            gaussian_sampler = torch.distributions.MultivariateNormal(\n",
    "                loc=torch.zeros(n).to(device), covariance_matrix=h_dis\n",
    "            )\n",
    "\n",
    "            # gausian sampling\n",
    "            wt_h_dis = torch.empty(k, n, n).to(device)\n",
    "\n",
    "            for i in range(k):\n",
    "                sample_vec = gaussian_sampler.sample()\n",
    "                wt_h_dis[i] = sample_vec[..., None] @ sample_vec[None, ...]\n",
    "\n",
    "            # take mean over dim k\n",
    "            # n * n\n",
    "            wt_h_dis = wt_h_dis.mean(dim=0)\n",
    "\n",
    "        alpha = gen_alpha(wt_h_dis, reg_lambda, y_data)\n",
    "\n",
    "        alpha = alpha / (n * n)\n",
    "\n",
    "        cls1_accuracy = test_accuracy(cls1_test_ts, 1, w_r, x_data, alpha)\n",
    "        cls2_accuracy = test_accuracy(cls2_test_ts, -1, w_r, x_data, alpha)\n",
    "\n",
    "        cls1_train_acc = test_accuracy(cls1_train_ts, 1, w_r, x_data, alpha)\n",
    "        cls2_train_acc = test_accuracy(cls2_train_ts, -1, w_r, x_data, alpha)\n",
    "\n",
    "        cur_test_acc = (cls1_accuracy + cls2_accuracy) / 2\n",
    "        cur_train_acc = (cls1_train_acc + cls2_train_acc) / 2\n",
    "\n",
    "        # print(cur_test_acc, cur_train_acc)\n",
    "\n",
    "        test_acc_list.append((cls1_accuracy + cls2_accuracy) / 2)\n",
    "        train_acc_list.append((cls1_train_acc + cls2_train_acc) / 2)\n",
    "\n",
    "    final_test_acc = sum(test_acc_list) / len(test_acc_list)\n",
    "    final_train_acc = sum(train_acc_list) / len(train_acc_list)\n",
    "\n",
    "    return final_test_acc, final_train_acc\n",
    "\n",
    "\n",
    "final_test_acc, final_train_acc = gaussain_sampling_on_k(h_dis, y_data, reg_lambda, cls1_test_ts, cls2_test_ts, None)\n",
    "\n",
    "# print(exponent)\n",
    "# print(k\n",
    "print(\"test acc\", final_test_acc)\n",
    "print(\"train acc\", final_train_acc)\n"
   ]
  },
  {
   "cell_type": "code",
   "execution_count": 25,
   "metadata": {},
   "outputs": [
    {
     "name": "stdout",
     "output_type": "stream",
     "text": [
      "[-1.5, -1.35, -1.2, -1.05, -0.9, -0.75, -0.6000000000000001, -0.44999999999999996, -0.30000000000000004, -0.15000000000000013, 0.0]\n",
      "--------------------------------------------------\n",
      "eps exponent -1.5, k 144\n"
     ]
    },
    {
     "name": "stderr",
     "output_type": "stream",
     "text": [
      "100%|██████████| 20/20 [00:31<00:00,  1.56s/it]\n"
     ]
    },
    {
     "name": "stdout",
     "output_type": "stream",
     "text": [
      "test acc tensor(0.9588)\n",
      "train acc tensor(0.9655)\n",
      "--------------------------------------------------\n",
      "--------------------------------------------------\n",
      "eps exponent -1.35, k 288\n"
     ]
    },
    {
     "name": "stderr",
     "output_type": "stream",
     "text": [
      "100%|██████████| 20/20 [00:42<00:00,  2.10s/it]\n"
     ]
    },
    {
     "name": "stdout",
     "output_type": "stream",
     "text": [
      "test acc tensor(0.9707)\n",
      "train acc tensor(0.9758)\n",
      "--------------------------------------------------\n",
      "--------------------------------------------------\n",
      "eps exponent -1.2, k 576\n"
     ]
    },
    {
     "name": "stderr",
     "output_type": "stream",
     "text": [
      "100%|██████████| 20/20 [01:02<00:00,  3.11s/it]\n"
     ]
    },
    {
     "name": "stdout",
     "output_type": "stream",
     "text": [
      "test acc tensor(0.9797)\n",
      "train acc tensor(0.9835)\n",
      "--------------------------------------------------\n",
      "--------------------------------------------------\n",
      "eps exponent -1.05, k 1149\n"
     ]
    },
    {
     "name": "stderr",
     "output_type": "stream",
     "text": [
      "100%|██████████| 20/20 [01:40<00:00,  5.02s/it]\n"
     ]
    },
    {
     "name": "stdout",
     "output_type": "stream",
     "text": [
      "test acc tensor(0.9795)\n",
      "train acc tensor(0.9836)\n",
      "--------------------------------------------------\n",
      "--------------------------------------------------\n",
      "eps exponent -0.9, k 2294\n"
     ]
    },
    {
     "name": "stderr",
     "output_type": "stream",
     "text": [
      "100%|██████████| 20/20 [02:47<00:00,  8.39s/it]\n"
     ]
    },
    {
     "name": "stdout",
     "output_type": "stream",
     "text": [
      "test acc tensor(0.9825)\n",
      "train acc tensor(0.9839)\n",
      "--------------------------------------------------\n",
      "--------------------------------------------------\n",
      "eps exponent -0.75, k 2500\n"
     ]
    },
    {
     "name": "stderr",
     "output_type": "stream",
     "text": [
      "100%|██████████| 20/20 [02:56<00:00,  8.82s/it]\n"
     ]
    },
    {
     "name": "stdout",
     "output_type": "stream",
     "text": [
      "test acc tensor(0.9818)\n",
      "train acc tensor(0.9844)\n",
      "--------------------------------------------------\n",
      "--------------------------------------------------\n",
      "eps exponent -0.6000000000000001, k 2500\n"
     ]
    },
    {
     "name": "stderr",
     "output_type": "stream",
     "text": [
      "100%|██████████| 20/20 [03:05<00:00,  9.25s/it]\n"
     ]
    },
    {
     "name": "stdout",
     "output_type": "stream",
     "text": [
      "test acc tensor(0.9812)\n",
      "train acc tensor(0.9841)\n",
      "--------------------------------------------------\n",
      "--------------------------------------------------\n",
      "eps exponent -0.44999999999999996, k 2500\n"
     ]
    },
    {
     "name": "stderr",
     "output_type": "stream",
     "text": [
      "100%|██████████| 20/20 [03:09<00:00,  9.48s/it]\n"
     ]
    },
    {
     "name": "stdout",
     "output_type": "stream",
     "text": [
      "test acc tensor(0.9807)\n",
      "train acc tensor(0.9832)\n",
      "--------------------------------------------------\n",
      "--------------------------------------------------\n",
      "eps exponent -0.30000000000000004, k 2500\n"
     ]
    },
    {
     "name": "stderr",
     "output_type": "stream",
     "text": [
      "100%|██████████| 20/20 [02:59<00:00,  9.00s/it]\n"
     ]
    },
    {
     "name": "stdout",
     "output_type": "stream",
     "text": [
      "test acc tensor(0.9822)\n",
      "train acc tensor(0.9836)\n",
      "--------------------------------------------------\n",
      "--------------------------------------------------\n",
      "eps exponent -0.15000000000000013, k 2500\n"
     ]
    },
    {
     "name": "stderr",
     "output_type": "stream",
     "text": [
      "100%|██████████| 20/20 [03:07<00:00,  9.35s/it]\n"
     ]
    },
    {
     "name": "stdout",
     "output_type": "stream",
     "text": [
      "test acc tensor(0.9818)\n",
      "train acc tensor(0.9845)\n",
      "--------------------------------------------------\n",
      "--------------------------------------------------\n",
      "eps exponent 0.0, k 2500\n"
     ]
    },
    {
     "name": "stderr",
     "output_type": "stream",
     "text": [
      "100%|██████████| 20/20 [03:05<00:00,  9.26s/it]"
     ]
    },
    {
     "name": "stdout",
     "output_type": "stream",
     "text": [
      "test acc tensor(0.9822)\n",
      "train acc tensor(0.9842)\n",
      "--------------------------------------------------\n"
     ]
    },
    {
     "name": "stderr",
     "output_type": "stream",
     "text": [
      "\n"
     ]
    }
   ],
   "source": [
    "\n",
    "\n",
    "############# test non-private alpha start #############\n",
    "# final_test_acc, final_train_acc = gaussain_sampling_on_k(h_dis, y_data, reg_lambda, cls1_test_ts, cls2_test_ts, None)\n",
    "\n",
    "# print(\"test acc\", final_test_acc)\n",
    "# print(\"train acc\", final_train_acc)\n",
    "\n",
    "# raise\n",
    "########### test non-private alpha end ################\n",
    "\n",
    "\n",
    "# beta = 0.05\n",
    "# delta = 1e-3\n",
    "# eps_exponent_list = [-2.0 + i * 0.2 for i in range(11)]\n",
    "\n",
    "eps_exponent_list = [-1.5 + i * 0.15 for i in range(11)]\n",
    "\n",
    "\n",
    "# eps_exponent_list = eps_exponent_list[:1]\n",
    "\n",
    "print(eps_exponent_list)\n",
    "\n",
    "# raise\n",
    "\n",
    "\n",
    "# delta = 1e-3\n",
    "# eps = 10\n",
    "\n",
    "# test_k = cal_k(eps, delta, beta)\n",
    "# print(test_k)\n",
    "\n",
    "# k_list = list(range(1, 11))\n",
    "\n",
    "beta = 0.0001\n",
    "delta = 1e-3\n",
    "\n",
    "\n",
    "draw_test_acc_list = []\n",
    "draw_train_acc_list = []\n",
    "\n",
    "# for k in k_list:\n",
    "for eps_exponent in eps_exponent_list:\n",
    "    eps = 10 ** eps_exponent\n",
    "    k = cal_k(eps, delta, beta)\n",
    "\n",
    "    if k > 2549:\n",
    "        k = 2500\n",
    "\n",
    "    print(\"-\" * 50)\n",
    "\n",
    "    print(f\"eps exponent {eps_exponent}, k {k}\")\n",
    "\n",
    "    # k = int(2 ** (k))\n",
    "\n",
    "    final_test_acc, final_train_acc = gaussain_sampling_on_k(h_dis, y_data, reg_lambda, cls1_test_ts, cls2_test_ts, k)\n",
    "\n",
    "    # print(exponent)\n",
    "    # print(k)\n",
    "    \n",
    "    print(\"test acc\", final_test_acc)\n",
    "    print(\"train acc\", final_train_acc)\n",
    "\n",
    "    print(\"-\" * 50)\n",
    "\n",
    "    draw_test_acc_list.append(final_test_acc)\n",
    "    draw_train_acc_list.append(final_train_acc)\n",
    "\n"
   ]
  },
  {
   "cell_type": "code",
   "execution_count": 23,
   "metadata": {},
   "outputs": [
    {
     "name": "stdout",
     "output_type": "stream",
     "text": [
      "eps exponent -1.5, k 144\n",
      "eps exponent -1.35, k 288\n",
      "eps exponent -1.2, k 576\n",
      "eps exponent -1.05, k 1149\n",
      "eps exponent -0.9, k 2294\n",
      "eps exponent -0.75, k 4577\n",
      "eps exponent -0.6000000000000001, k 9134\n",
      "eps exponent -0.44999999999999996, k 18224\n",
      "eps exponent -0.30000000000000004, k 36363\n",
      "eps exponent -0.15000000000000013, k 72554\n",
      "eps exponent 0.0, k 144764\n"
     ]
    }
   ],
   "source": [
    "beta = 0.0001\n",
    "delta = 1e-3\n",
    "# test_k = cal_k(1e-2, delta, beta)\n",
    "\n",
    "# print(test_k)\n",
    "\n",
    "# eps_exponent_list = [-2.0 + i * 0.2 for i in range(11)]\n",
    "\n",
    "eps_exponent_list = [-1.5 + i * 0.15 for i in range(11)]\n",
    "\n",
    "for eps_exponent in eps_exponent_list:\n",
    "    eps = 10 ** eps_exponent\n",
    "    k = cal_k(eps, delta, beta)\n",
    "\n",
    "    print(f\"eps exponent {eps_exponent}, k {k}\")"
   ]
  },
  {
   "cell_type": "code",
   "execution_count": 19,
   "metadata": {},
   "outputs": [
    {
     "name": "stdout",
     "output_type": "stream",
     "text": [
      "tensor([8.9543e+02+0.j, 1.0829e+02+0.j, 4.6166e+01+0.j,  ..., 4.0186e-02+0.j,\n",
      "        3.1358e-02+0.j, 3.6291e-02+0.j], device='cuda:0')\n",
      "torch.complex64\n"
     ]
    }
   ],
   "source": [
    "# h_dis.shape\n",
    "eigen_value = torch.linalg.eigvals(h_dis)\n",
    "print(eigen_value)\n",
    "print(eigen_value.dtype)"
   ]
  },
  {
   "cell_type": "code",
   "execution_count": 22,
   "metadata": {},
   "outputs": [
    {
     "data": {
      "text/plain": [
       "tensor(0.0069, device='cuda:0')"
      ]
     },
     "execution_count": 22,
     "metadata": {},
     "output_type": "execute_result"
    }
   ],
   "source": [
    "# print(min(eigen_value))\n",
    "real_part = eigen_value.real\n",
    "# print(real_part.dtype)\n",
    "min(real_part)"
   ]
  },
  {
   "cell_type": "code",
   "execution_count": 13,
   "metadata": {},
   "outputs": [],
   "source": [
    "draw_test_acc_list = [x.item() for x in draw_test_acc_list]\n",
    "draw_train_acc_list = [x.item() for x in draw_train_acc_list]"
   ]
  },
  {
   "cell_type": "code",
   "execution_count": 14,
   "metadata": {},
   "outputs": [
    {
     "name": "stdout",
     "output_type": "stream",
     "text": [
      "[-2.0, -1.8, -1.6, -1.4, -1.2, -1.0, -0.7999999999999998, -0.5999999999999999, -0.3999999999999999, -0.19999999999999996, 0.0]\n",
      "[0.8119999766349792, 0.778499960899353, 0.8279999494552612, 0.8620001077651978, 0.9345000386238098, 0.9600000381469727, 0.9785000085830688, 0.9797499775886536, 0.9817500114440918, 0.9802498817443848, 0.982249915599823]\n",
      "[0.8196749687194824, 0.792324960231781, 0.8381500244140625, 0.8725500106811523, 0.942175030708313, 0.9675000905990601, 0.9816250801086426, 0.9822250604629517, 0.9834000468254089, 0.9839000701904297, 0.9840500950813293]\n"
     ]
    }
   ],
   "source": [
    "# exponent_eps_list = [-3.0 + i * 0.2 for i in range(10)]\n",
    "# draw_test_acc_list = []\n",
    "# draw_train_acc_list = []\n",
    "\n",
    "# print(k_list)\n",
    "print(eps_exponent_list)\n",
    "print(draw_test_acc_list)\n",
    "print(draw_train_acc_list)"
   ]
  }
 ],
 "metadata": {
  "kernelspec": {
   "display_name": "galore",
   "language": "python",
   "name": "python3"
  },
  "language_info": {
   "codemirror_mode": {
    "name": "ipython",
    "version": 3
   },
   "file_extension": ".py",
   "mimetype": "text/x-python",
   "name": "python",
   "nbconvert_exporter": "python",
   "pygments_lexer": "ipython3",
   "version": "3.10.14"
  }
 },
 "nbformat": 4,
 "nbformat_minor": 2
}
